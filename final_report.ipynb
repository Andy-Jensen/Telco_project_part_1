{
 "cells": [
  {
   "cell_type": "markdown",
   "id": "2f0165a2",
   "metadata": {},
   "source": [
    "# Classification Project"
   ]
  },
  {
   "cell_type": "markdown",
   "id": "6359c23b",
   "metadata": {},
   "source": [
    "## Project Overview"
   ]
  },
  {
   "cell_type": "markdown",
   "id": "971d0ff0",
   "metadata": {},
   "source": [
    "The telecommunication industry is massive generating greater than 1.7 billion dollars in 2021 and is expected to almost double by 2028. Companies are constantly looking at customer retention (churn) in order to glean as much as possible from this billion dollar industry. Determining wether a customer will churn or not allows a business to make changes in an attempt to retain their customers. Using the telco_churn dataset, I will identify drivers and determine how they relate to customer churn at the company and hypothisize how to reduce their customer churn.\n",
    "\n"
   ]
  },
  {
   "cell_type": "markdown",
   "id": "d36f55d1",
   "metadata": {},
   "source": [
    "## Goals"
   ]
  },
  {
   "cell_type": "markdown",
   "id": "55bd814a",
   "metadata": {},
   "source": [
    "- Ask questions and explore the telco_churn dataset to answer them.  \n",
    "- Identify drivers for customer churn at Telco\n",
    "- Construct a classification model that **accurately** predicts customer churn."
   ]
  },
  {
   "cell_type": "markdown",
   "id": "ff3c91ac",
   "metadata": {},
   "source": [
    "## Imports"
   ]
  },
  {
   "cell_type": "code",
   "execution_count": 37,
   "id": "578d1038",
   "metadata": {},
   "outputs": [],
   "source": [
    "#importing libraries\n",
    "\n",
    "import numpy as np\n",
    "import pandas as pd\n",
    "import seaborn as sns\n",
    "import matplotlib.pyplot as plt\n",
    "\n",
    "from scipy import stats\n",
    "from prepare import tts\n",
    "from prepare import prep_telco\n",
    "\n",
    "from sklearn.ensemble import RandomForestClassifier\n",
    "from sklearn.metrics import confusion_matrix"
   ]
  },
  {
   "cell_type": "markdown",
   "id": "3eae533e",
   "metadata": {},
   "source": [
    "## Data Acquisition and Preperation"
   ]
  },
  {
   "cell_type": "markdown",
   "id": "490c341a",
   "metadata": {},
   "source": [
    "- Data was acquired from the Codeup SQL server using the **get_telco_data** function in the <em>acquire.py</em> module. \n",
    "- Using the **prep_telco** function from <em>prepare.py</em>, the **get_telco_data** function is called to acquire the data and the data is also prepared.\n",
    "    - Column dummies were created for most string value fields\n",
    "    - id columns were dropped. \n",
    "        - ['customer_id', 'contract_type_id', 'payment_type_id','internet_service_type_id']"
   ]
  },
  {
   "cell_type": "code",
   "execution_count": 2,
   "id": "5db24cfa",
   "metadata": {},
   "outputs": [
    {
     "data": {
      "text/html": [
       "<div>\n",
       "<style scoped>\n",
       "    .dataframe tbody tr th:only-of-type {\n",
       "        vertical-align: middle;\n",
       "    }\n",
       "\n",
       "    .dataframe tbody tr th {\n",
       "        vertical-align: top;\n",
       "    }\n",
       "\n",
       "    .dataframe thead th {\n",
       "        text-align: right;\n",
       "    }\n",
       "</style>\n",
       "<table border=\"1\" class=\"dataframe\">\n",
       "  <thead>\n",
       "    <tr style=\"text-align: right;\">\n",
       "      <th></th>\n",
       "      <th>gender</th>\n",
       "      <th>senior_citizen</th>\n",
       "      <th>partner</th>\n",
       "      <th>dependents</th>\n",
       "      <th>tenure</th>\n",
       "      <th>phone_service</th>\n",
       "      <th>multiple_lines</th>\n",
       "      <th>online_security</th>\n",
       "      <th>online_backup</th>\n",
       "      <th>device_protection</th>\n",
       "      <th>tech_support</th>\n",
       "      <th>streaming_tv</th>\n",
       "      <th>streaming_movies</th>\n",
       "      <th>paperless_billing</th>\n",
       "      <th>monthly_charges</th>\n",
       "      <th>total_charges</th>\n",
       "      <th>churn</th>\n",
       "      <th>contract_type</th>\n",
       "      <th>internet_service_type</th>\n",
       "      <th>payment_type</th>\n",
       "      <th>signup_date</th>\n",
       "      <th>churn_month</th>\n",
       "      <th>gender_Male</th>\n",
       "      <th>partner_Yes</th>\n",
       "      <th>dependents_Yes</th>\n",
       "      <th>phone_service_Yes</th>\n",
       "      <th>multiple_lines_No phone service</th>\n",
       "      <th>multiple_lines_Yes</th>\n",
       "      <th>online_security_No internet service</th>\n",
       "      <th>online_security_Yes</th>\n",
       "      <th>online_backup_No internet service</th>\n",
       "      <th>online_backup_Yes</th>\n",
       "      <th>device_protection_No internet service</th>\n",
       "      <th>device_protection_Yes</th>\n",
       "      <th>tech_support_No internet service</th>\n",
       "      <th>tech_support_Yes</th>\n",
       "      <th>streaming_tv_No internet service</th>\n",
       "      <th>streaming_tv_Yes</th>\n",
       "      <th>streaming_movies_No internet service</th>\n",
       "      <th>streaming_movies_Yes</th>\n",
       "      <th>paperless_billing_Yes</th>\n",
       "      <th>contract_type_One year</th>\n",
       "      <th>contract_type_Two year</th>\n",
       "      <th>internet_service_type_Fiber optic</th>\n",
       "      <th>internet_service_type_None</th>\n",
       "      <th>payment_type_Credit card (automatic)</th>\n",
       "      <th>payment_type_Electronic check</th>\n",
       "      <th>payment_type_Mailed check</th>\n",
       "    </tr>\n",
       "  </thead>\n",
       "  <tbody>\n",
       "    <tr>\n",
       "      <th>0</th>\n",
       "      <td>Female</td>\n",
       "      <td>0</td>\n",
       "      <td>Yes</td>\n",
       "      <td>Yes</td>\n",
       "      <td>9</td>\n",
       "      <td>Yes</td>\n",
       "      <td>No</td>\n",
       "      <td>No</td>\n",
       "      <td>Yes</td>\n",
       "      <td>No</td>\n",
       "      <td>Yes</td>\n",
       "      <td>Yes</td>\n",
       "      <td>No</td>\n",
       "      <td>Yes</td>\n",
       "      <td>65.6</td>\n",
       "      <td>593.3</td>\n",
       "      <td>No</td>\n",
       "      <td>One year</td>\n",
       "      <td>DSL</td>\n",
       "      <td>Mailed check</td>\n",
       "      <td>2021-04-21 18:07:34</td>\n",
       "      <td>NaN</td>\n",
       "      <td>0</td>\n",
       "      <td>1</td>\n",
       "      <td>1</td>\n",
       "      <td>1</td>\n",
       "      <td>0</td>\n",
       "      <td>0</td>\n",
       "      <td>0</td>\n",
       "      <td>0</td>\n",
       "      <td>0</td>\n",
       "      <td>1</td>\n",
       "      <td>0</td>\n",
       "      <td>0</td>\n",
       "      <td>0</td>\n",
       "      <td>1</td>\n",
       "      <td>0</td>\n",
       "      <td>1</td>\n",
       "      <td>0</td>\n",
       "      <td>0</td>\n",
       "      <td>1</td>\n",
       "      <td>1</td>\n",
       "      <td>0</td>\n",
       "      <td>0</td>\n",
       "      <td>0</td>\n",
       "      <td>0</td>\n",
       "      <td>0</td>\n",
       "      <td>1</td>\n",
       "    </tr>\n",
       "    <tr>\n",
       "      <th>1</th>\n",
       "      <td>Male</td>\n",
       "      <td>0</td>\n",
       "      <td>No</td>\n",
       "      <td>No</td>\n",
       "      <td>9</td>\n",
       "      <td>Yes</td>\n",
       "      <td>Yes</td>\n",
       "      <td>No</td>\n",
       "      <td>No</td>\n",
       "      <td>No</td>\n",
       "      <td>No</td>\n",
       "      <td>No</td>\n",
       "      <td>Yes</td>\n",
       "      <td>No</td>\n",
       "      <td>59.9</td>\n",
       "      <td>542.4</td>\n",
       "      <td>No</td>\n",
       "      <td>Month-to-month</td>\n",
       "      <td>DSL</td>\n",
       "      <td>Mailed check</td>\n",
       "      <td>2021-04-21 18:07:34</td>\n",
       "      <td>NaN</td>\n",
       "      <td>1</td>\n",
       "      <td>0</td>\n",
       "      <td>0</td>\n",
       "      <td>1</td>\n",
       "      <td>0</td>\n",
       "      <td>1</td>\n",
       "      <td>0</td>\n",
       "      <td>0</td>\n",
       "      <td>0</td>\n",
       "      <td>0</td>\n",
       "      <td>0</td>\n",
       "      <td>0</td>\n",
       "      <td>0</td>\n",
       "      <td>0</td>\n",
       "      <td>0</td>\n",
       "      <td>0</td>\n",
       "      <td>0</td>\n",
       "      <td>1</td>\n",
       "      <td>0</td>\n",
       "      <td>0</td>\n",
       "      <td>0</td>\n",
       "      <td>0</td>\n",
       "      <td>0</td>\n",
       "      <td>0</td>\n",
       "      <td>0</td>\n",
       "      <td>1</td>\n",
       "    </tr>\n",
       "    <tr>\n",
       "      <th>2</th>\n",
       "      <td>Male</td>\n",
       "      <td>0</td>\n",
       "      <td>No</td>\n",
       "      <td>No</td>\n",
       "      <td>4</td>\n",
       "      <td>Yes</td>\n",
       "      <td>No</td>\n",
       "      <td>No</td>\n",
       "      <td>No</td>\n",
       "      <td>Yes</td>\n",
       "      <td>No</td>\n",
       "      <td>No</td>\n",
       "      <td>No</td>\n",
       "      <td>Yes</td>\n",
       "      <td>73.9</td>\n",
       "      <td>280.85</td>\n",
       "      <td>Yes</td>\n",
       "      <td>Month-to-month</td>\n",
       "      <td>Fiber optic</td>\n",
       "      <td>Electronic check</td>\n",
       "      <td>2021-09-21 18:07:34</td>\n",
       "      <td>2022-01-31</td>\n",
       "      <td>1</td>\n",
       "      <td>0</td>\n",
       "      <td>0</td>\n",
       "      <td>1</td>\n",
       "      <td>0</td>\n",
       "      <td>0</td>\n",
       "      <td>0</td>\n",
       "      <td>0</td>\n",
       "      <td>0</td>\n",
       "      <td>0</td>\n",
       "      <td>0</td>\n",
       "      <td>1</td>\n",
       "      <td>0</td>\n",
       "      <td>0</td>\n",
       "      <td>0</td>\n",
       "      <td>0</td>\n",
       "      <td>0</td>\n",
       "      <td>0</td>\n",
       "      <td>1</td>\n",
       "      <td>0</td>\n",
       "      <td>0</td>\n",
       "      <td>1</td>\n",
       "      <td>0</td>\n",
       "      <td>0</td>\n",
       "      <td>1</td>\n",
       "      <td>0</td>\n",
       "    </tr>\n",
       "  </tbody>\n",
       "</table>\n",
       "</div>"
      ],
      "text/plain": [
       "   gender  senior_citizen partner dependents  tenure phone_service  \\\n",
       "0  Female               0     Yes        Yes       9           Yes   \n",
       "1    Male               0      No         No       9           Yes   \n",
       "2    Male               0      No         No       4           Yes   \n",
       "\n",
       "  multiple_lines online_security online_backup device_protection tech_support  \\\n",
       "0             No              No           Yes                No          Yes   \n",
       "1            Yes              No            No                No           No   \n",
       "2             No              No            No               Yes           No   \n",
       "\n",
       "  streaming_tv streaming_movies paperless_billing  monthly_charges  \\\n",
       "0          Yes               No               Yes             65.6   \n",
       "1           No              Yes                No             59.9   \n",
       "2           No               No               Yes             73.9   \n",
       "\n",
       "  total_charges churn   contract_type internet_service_type      payment_type  \\\n",
       "0         593.3    No        One year                   DSL      Mailed check   \n",
       "1         542.4    No  Month-to-month                   DSL      Mailed check   \n",
       "2        280.85   Yes  Month-to-month           Fiber optic  Electronic check   \n",
       "\n",
       "           signup_date churn_month  gender_Male  partner_Yes  dependents_Yes  \\\n",
       "0  2021-04-21 18:07:34         NaN            0            1               1   \n",
       "1  2021-04-21 18:07:34         NaN            1            0               0   \n",
       "2  2021-09-21 18:07:34  2022-01-31            1            0               0   \n",
       "\n",
       "   phone_service_Yes  multiple_lines_No phone service  multiple_lines_Yes  \\\n",
       "0                  1                                0                   0   \n",
       "1                  1                                0                   1   \n",
       "2                  1                                0                   0   \n",
       "\n",
       "   online_security_No internet service  online_security_Yes  \\\n",
       "0                                    0                    0   \n",
       "1                                    0                    0   \n",
       "2                                    0                    0   \n",
       "\n",
       "   online_backup_No internet service  online_backup_Yes  \\\n",
       "0                                  0                  1   \n",
       "1                                  0                  0   \n",
       "2                                  0                  0   \n",
       "\n",
       "   device_protection_No internet service  device_protection_Yes  \\\n",
       "0                                      0                      0   \n",
       "1                                      0                      0   \n",
       "2                                      0                      1   \n",
       "\n",
       "   tech_support_No internet service  tech_support_Yes  \\\n",
       "0                                 0                 1   \n",
       "1                                 0                 0   \n",
       "2                                 0                 0   \n",
       "\n",
       "   streaming_tv_No internet service  streaming_tv_Yes  \\\n",
       "0                                 0                 1   \n",
       "1                                 0                 0   \n",
       "2                                 0                 0   \n",
       "\n",
       "   streaming_movies_No internet service  streaming_movies_Yes  \\\n",
       "0                                     0                     0   \n",
       "1                                     0                     1   \n",
       "2                                     0                     0   \n",
       "\n",
       "   paperless_billing_Yes  contract_type_One year  contract_type_Two year  \\\n",
       "0                      1                       1                       0   \n",
       "1                      0                       0                       0   \n",
       "2                      1                       0                       0   \n",
       "\n",
       "   internet_service_type_Fiber optic  internet_service_type_None  \\\n",
       "0                                  0                           0   \n",
       "1                                  0                           0   \n",
       "2                                  1                           0   \n",
       "\n",
       "   payment_type_Credit card (automatic)  payment_type_Electronic check  \\\n",
       "0                                     0                              0   \n",
       "1                                     0                              0   \n",
       "2                                     0                              1   \n",
       "\n",
       "   payment_type_Mailed check  \n",
       "0                          1  \n",
       "1                          1  \n",
       "2                          0  "
      ]
     },
     "execution_count": 2,
     "metadata": {},
     "output_type": "execute_result"
    }
   ],
   "source": [
    "#prepared telco for modeling and setting the display to show all columns\n",
    "\n",
    "pd.set_option('display.max_columns', None)\n",
    "telco_p = prep_telco()\n",
    "telco_p.head(3)"
   ]
  },
  {
   "cell_type": "markdown",
   "id": "d9d82131",
   "metadata": {},
   "source": [
    "## Data Dictionary"
   ]
  },
  {
   "cell_type": "markdown",
   "id": "7b22095f",
   "metadata": {},
   "source": [
    "| Feature | Definition |\n",
    "|:--------|:-----------|\n",
    "|gender| Male or Female, gender of the customer|\n",
    "|senior_citizen| 0 or 1, wether the customer is a senior citizen or not|\n",
    "|partner| Yes or No, wether the customer has a partner or not|\n",
    "|dependents| Yes or No, wether the customer has dependents or not|\n",
    "|tenure| how long the customer has been with Telco|\n",
    "|phone_service| Yes or No, wether the customer has phone service or not|\n",
    "|mutiple_lines| Yes or No, wether the customer has multiple lines or not|\n",
    "|online_security| Yes or No, wether the customer has online security or not|\n",
    "|online_backup| Yes or No, wether the customer has online backup or not|\n",
    "|device_protection| Yes or No, wether the customer has device_protection or not|\n",
    "|tech_support| Yes or No, wether the customer has tech_support or not|\n",
    "|streaming_tv| Yes or No, wether the customer has tv streaming or not|\n",
    "|streaming_movies| Yes or No, wether the customer has movie streaming or not|\n",
    "|paperless_billing| Yes or No, wether the customer has enrolled in paperless billing or not|\n",
    "|monthly_charges| how much each customer pays per month|\n",
    "|total_charges| how much each customer has payed in their tenure|\n",
    "|churn| Yes or No, wether the customer has left the company or not|\n",
    "|contract_type| current contract length of each customer|\n",
    "|internet_service_type| the type of internet each customer is paying for|\n",
    "|payment_type| how each customer is sending their payment to Telco|\n",
    "|signup_date| date of each customers enrollment with Telco|\n",
    "|churn_month| month that the customer left Telco. 'None' if the customer is still enrolled|"
   ]
  },
  {
   "cell_type": "markdown",
   "id": "10566102",
   "metadata": {},
   "source": [
    "## Exploration\n",
    "- First split the data into train, validate, and test using the **tts()** function from <em>prepare.py</em>  \n",
    "    -in the **tts** function, you must specify the column to stratify on. In this case: 'churn'"
   ]
  },
  {
   "cell_type": "code",
   "execution_count": 3,
   "id": "0087fb47",
   "metadata": {},
   "outputs": [
    {
     "name": "stdout",
     "output_type": "stream",
     "text": [
      "stratify=churn\n"
     ]
    }
   ],
   "source": [
    "#separating into the train, validate, and test using train test split (tts function) from prepare.py\n",
    "#stratify using 'churn'\n",
    "\n",
    "telco_train, telco_v, telco_test = tts(telco_p)"
   ]
  },
  {
   "cell_type": "code",
   "execution_count": 4,
   "id": "0afee4de",
   "metadata": {},
   "outputs": [
    {
     "data": {
      "text/plain": [
       "<AxesSubplot:xlabel='churn', ylabel='Count'>"
      ]
     },
     "execution_count": 4,
     "metadata": {},
     "output_type": "execute_result"
    },
    {
     "data": {
      "image/png": "[encoded data removed]",
      "text/plain": [
       "<Figure size 640x480 with 1 Axes>"
      ]
     },
     "metadata": {},
     "output_type": "display_data"
    }
   ],
   "source": [
    "#visualizing the number of customers that have churned\n",
    "sns.histplot(x='churn', data=telco_train, color='rebeccapurple')"
   ]
  },
  {
   "cell_type": "markdown",
   "id": "150946e4",
   "metadata": {},
   "source": [
    "### A few charts stood out to me, after graphing every field, worth investigating:  \n",
    " -tenure  \n",
    " -dependents     \n",
    " -monthly charges  \n",
    " -internet service type  "
   ]
  },
  {
   "cell_type": "code",
   "execution_count": 5,
   "id": "563772d4",
   "metadata": {},
   "outputs": [
    {
     "data": {
      "text/plain": [
       "<AxesSubplot:xlabel='tenure', ylabel='Count'>"
      ]
     },
     "execution_count": 5,
     "metadata": {},
     "output_type": "execute_result"
    },
    {
     "data": {
      "image/png": "[encoded data removed]",
      "text/plain": [
       "<Figure size 640x480 with 1 Axes>"
      ]
     },
     "metadata": {},
     "output_type": "display_data"
    }
   ],
   "source": [
    "#visualizing the tenure\n",
    "\n",
    "sns.histplot(x='tenure', data=telco_train, color= 'seagreen')"
   ]
  },
  {
   "cell_type": "code",
   "execution_count": 6,
   "id": "c173808b",
   "metadata": {},
   "outputs": [
    {
     "data": {
      "text/plain": [
       "<AxesSubplot:xlabel='dependents', ylabel='Count'>"
      ]
     },
     "execution_count": 6,
     "metadata": {},
     "output_type": "execute_result"
    },
    {
     "data": {
      "image/png": "[encoded data removed]",
      "text/plain": [
       "<Figure size 640x480 with 1 Axes>"
      ]
     },
     "metadata": {},
     "output_type": "display_data"
    }
   ],
   "source": [
    "#visualizing the dependents and churn\n",
    "\n",
    "sns.histplot(x='dependents', data=telco_train, hue='churn', palette= 'Spectral')"
   ]
  },
  {
   "cell_type": "code",
   "execution_count": 7,
   "id": "be5005fd",
   "metadata": {},
   "outputs": [
    {
     "data": {
      "text/plain": [
       "<AxesSubplot:xlabel='monthly_charges', ylabel='Count'>"
      ]
     },
     "execution_count": 7,
     "metadata": {},
     "output_type": "execute_result"
    },
    {
     "data": {
      "image/png": "[encoded data removed]",
      "text/plain": [
       "<Figure size 640x480 with 1 Axes>"
      ]
     },
     "metadata": {},
     "output_type": "display_data"
    }
   ],
   "source": [
    "#visualizing the monthly charges and churn\n",
    "\n",
    "sns.histplot(x='monthly_charges', data=telco_train, hue='churn', palette= 'Spectral')"
   ]
  },
  {
   "cell_type": "code",
   "execution_count": 8,
   "id": "7a407682",
   "metadata": {},
   "outputs": [
    {
     "data": {
      "text/plain": [
       "<AxesSubplot:xlabel='internet_service_type', ylabel='Count'>"
      ]
     },
     "execution_count": 8,
     "metadata": {},
     "output_type": "execute_result"
    },
    {
     "data": {
      "image/png": "[encoded data removed]",
      "text/plain": [
       "<Figure size 640x480 with 1 Axes>"
      ]
     },
     "metadata": {},
     "output_type": "display_data"
    }
   ],
   "source": [
    "#visualizing the internet service type and churn\n",
    "\n",
    "sns.histplot(x='internet_service_type', data=telco_train, hue='churn', palette= 'Spectral')"
   ]
  },
  {
   "cell_type": "markdown",
   "id": "14c92cb9",
   "metadata": {},
   "source": [
    "## Exploration Summary\n",
    "- Telco has a lot of customers with low tenure and low monthly charges. Could these be drivers of churn? \n",
    "- There are also a lot of customers that have internet service that churn, while most people that only have phone service do not churn.\n",
    "- In the dependents field, there is a lot of churn for customers with no dependents. Maybe families like Telco's service more?"
   ]
  },
  {
   "cell_type": "markdown",
   "id": "c9e37d76",
   "metadata": {},
   "source": [
    "## Statistical Testing"
   ]
  },
  {
   "cell_type": "code",
   "execution_count": 9,
   "id": "1eb4dda1",
   "metadata": {},
   "outputs": [],
   "source": [
    "#Set alpha\n",
    "\n",
    "alpha=.05"
   ]
  },
  {
   "cell_type": "markdown",
   "id": "3bdb614f",
   "metadata": {},
   "source": [
    "# Question 1:\n",
    "# Are customers with low tenure more likely to churn?\n",
    "$H_0$- Customers that churn do not have significantly lower tenure.  \n",
    "$H_a$- Customers that churn have significantly lower tenure."
   ]
  },
  {
   "cell_type": "code",
   "execution_count": 10,
   "id": "b43f44ee",
   "metadata": {},
   "outputs": [
    {
     "data": {
      "text/plain": [
       "<AxesSubplot:xlabel='churn', ylabel='tenure'>"
      ]
     },
     "execution_count": 10,
     "metadata": {},
     "output_type": "execute_result"
    },
    {
     "data": {
      "image/png": "[encoded data removed]",
      "text/plain": [
       "<Figure size 640x480 with 1 Axes>"
      ]
     },
     "metadata": {},
     "output_type": "display_data"
    }
   ],
   "source": [
    "#visualizing churn and tenure with a swarm plot\n",
    "\n",
    "sns.swarmplot(x='churn', y='tenure', data=telco_train, size=.825)"
   ]
  },
  {
   "cell_type": "code",
   "execution_count": 11,
   "id": "c7f4d8b9",
   "metadata": {},
   "outputs": [
    {
     "name": "stdout",
     "output_type": "stream",
     "text": [
      "Mean tenure for customers that churn: 18.038240917782026 \n",
      "Mean tenure for customers that don't churn: 37.49499482222989\n"
     ]
    }
   ],
   "source": [
    "#getting the mean tenure for each discreet catagory\n",
    "\n",
    "churn_yes= telco_train[telco_train['churn'] == 'Yes']\n",
    "churn_no= telco_train[telco_train['churn'] == 'No']\n",
    "\n",
    "ten_yes_m= np.mean(churn_yes['tenure'])\n",
    "ten_no_m= np.mean(churn_no['tenure'])\n",
    "print(f'Mean tenure for customers that churn: {ten_yes_m}',\n",
    "      f'\\nMean tenure for customers that don\\'t churn: {ten_no_m}')"
   ]
  },
  {
   "cell_type": "markdown",
   "id": "5ecdeca6",
   "metadata": {},
   "source": [
    "### Since the plotted distribution for tenure among customers that do/do not churn is not normal, use the mannwhitneyu statistical test"
   ]
  },
  {
   "cell_type": "code",
   "execution_count": 12,
   "id": "9db5436b",
   "metadata": {},
   "outputs": [
    {
     "name": "stdout",
     "output_type": "stream",
     "text": [
      "test_statistic= 796577.0 p=3.589116306723641e-115\n",
      "reject the null hypothesis\n"
     ]
    }
   ],
   "source": [
    "#using a mannwhitneyu to test for significance\n",
    "\n",
    "test_statistic, p= stats.mannwhitneyu(x=churn_yes['tenure'], y= churn_no['tenure'], \n",
    "                                     alternative= 'less')\n",
    "print(f'test_statistic= {test_statistic}', f'p={p}')\n",
    "\n",
    "#check if the p value is less than our alpha\n",
    "if p < alpha:\n",
    "    print('reject the null hypothesis')\n",
    "else:\n",
    "    print('do not reject the null hypothesis')"
   ]
  },
  {
   "cell_type": "markdown",
   "id": "530e220c",
   "metadata": {},
   "source": [
    "**Takeaways**  \n",
    "Because the p value is less than the alpha value, we can say with confidence that customers that churn have significantly lower tenure. The average tenure of customers that churn (\\~18) is significantly lower than customers that don't churn (~ 37.5)."
   ]
  },
  {
   "cell_type": "markdown",
   "id": "1560af38",
   "metadata": {},
   "source": [
    "# Question 2:\n",
    "# Are customers without dependents more likely to churn?\n",
    "$H_0$- Customers that churn are not more likely to have no dependents  \n",
    "$H_a$- Customers that churn are more likely to have no dependents"
   ]
  },
  {
   "cell_type": "code",
   "execution_count": 13,
   "id": "df93474d",
   "metadata": {},
   "outputs": [
    {
     "data": {
      "text/plain": [
       "<AxesSubplot:xlabel='dependents', ylabel='Count'>"
      ]
     },
     "execution_count": 13,
     "metadata": {},
     "output_type": "execute_result"
    },
    {
     "data": {
      "image/png": "[encoded data removed]",
      "text/plain": [
       "<Figure size 640x480 with 1 Axes>"
      ]
     },
     "metadata": {},
     "output_type": "display_data"
    }
   ],
   "source": [
    "#visualizing customers with dependents\n",
    "\n",
    "sns.histplot(x='dependents', \n",
    "             data= telco_train,\n",
    "             hue= 'churn')"
   ]
  },
  {
   "cell_type": "code",
   "execution_count": 14,
   "id": "0a0cbe28",
   "metadata": {},
   "outputs": [
    {
     "name": "stdout",
     "output_type": "stream",
     "text": [
      "observed values\n",
      "\n",
      "dependents    No   Yes\n",
      "churn                 \n",
      "No          1887  1010\n",
      "Yes          867   179\n",
      "--------------\n",
      "\n",
      "expected values\n",
      "\n",
      "          no dependents  dependents\n",
      "no churn         2023.4       873.6\n",
      "churn             730.6       315.4\n",
      "--------------\n",
      "\n",
      "chi^2=  114.1326\n",
      "p    = 1.2188051282217693e-26\n"
     ]
    }
   ],
   "source": [
    "#generating observed results\n",
    "observed= pd.crosstab(telco_train.churn, telco_train.dependents)\n",
    "\n",
    "#doing a chi^2 test on the observed results\n",
    "chi2, p, degf, expected = stats.chi2_contingency(observed)\n",
    "\n",
    "#assigning the expected values to a dataframe\n",
    "expected=pd.DataFrame(data=expected, \n",
    "                      index=['no churn', 'churn'], \n",
    "                      columns=['no dependents', 'dependents'])\n",
    "\n",
    "#showing the results of the chi^2 test\n",
    "print('observed values\\n')\n",
    "print(observed)\n",
    "print('--------------\\n')\n",
    "print('expected values\\n')\n",
    "print(round(expected,1))\n",
    "print('--------------\\n')\n",
    "print(f'chi^2= {chi2: .4f}')\n",
    "print(f'p    = {p}')"
   ]
  },
  {
   "cell_type": "code",
   "execution_count": 15,
   "id": "3aa5e794",
   "metadata": {},
   "outputs": [
    {
     "name": "stdout",
     "output_type": "stream",
     "text": [
      "reject the null hypothesis\n"
     ]
    }
   ],
   "source": [
    "#check if the p value is less than our alpha\n",
    "\n",
    "if p < alpha:\n",
    "    print('reject the null hypothesis')\n",
    "else:\n",
    "    print('do not reject the null hypothesis')"
   ]
  },
  {
   "cell_type": "markdown",
   "id": "a71e0c99",
   "metadata": {},
   "source": [
    "**Takeaways**  \n",
    "The p value is lower than the alpha value, so we reject the null hypothesis. Customers that don't have dependents are more likely to churn. This provides some statistical support for the idea that Telco may be better at providing service for families."
   ]
  },
  {
   "cell_type": "markdown",
   "id": "7ff81e24",
   "metadata": {},
   "source": [
    "# Question 3:\n",
    "# Are customers with internet service more likely to churn?\n",
    "$H_0$- Customers that churn are not significantly more likely to have internet service  \n",
    "$H_a$- Customers that churn are significantly more likely to have internet service"
   ]
  },
  {
   "cell_type": "code",
   "execution_count": 16,
   "id": "f41eaf26",
   "metadata": {},
   "outputs": [
    {
     "data": {
      "text/plain": [
       "<AxesSubplot:xlabel='has_internet', ylabel='Count'>"
      ]
     },
     "execution_count": 16,
     "metadata": {},
     "output_type": "execute_result"
    },
    {
     "data": {
      "image/png": "[encoded data removed]",
      "text/plain": [
       "<Figure size 640x480 with 1 Axes>"
      ]
     },
     "metadata": {},
     "output_type": "display_data"
    }
   ],
   "source": [
    "#adding a column for yes internet or no internet\n",
    "d={'DSL': 'yes', 'Fiber optic': 'yes', 'None': 'no'}\n",
    "telco_train['has_internet']= telco_train['internet_service_type'].map(d)\n",
    "\n",
    "#visualization for customers that have churned and not that do and don't have internet\n",
    "sns.histplot(x='has_internet', \n",
    "             data= telco_train,\n",
    "             hue= 'churn')"
   ]
  },
  {
   "cell_type": "code",
   "execution_count": 17,
   "id": "23926595",
   "metadata": {},
   "outputs": [
    {
     "name": "stdout",
     "output_type": "stream",
     "text": [
      "observed values\n",
      "\n",
      "has_internet   no   yes\n",
      "churn                  \n",
      "No            792  2105\n",
      "Yes            61   985\n",
      "--------------\n",
      "\n",
      "expected values\n",
      "\n",
      "          no internet  internet\n",
      "no churn        626.7    2270.3\n",
      "churn           226.3     819.7\n",
      "--------------\n",
      "\n",
      "chi^2=  208.4121\n",
      "p    = 3.0500157004650695e-47\n"
     ]
    }
   ],
   "source": [
    "#generating an observed crosstab\n",
    "observed= pd.crosstab(telco_train.churn, telco_train.has_internet)\n",
    "\n",
    "#doing a chi^2 test on the observed results\n",
    "chi2, p, degf, expected = stats.chi2_contingency(observed)\n",
    "\n",
    "#assigning the expected values to a dataframe\n",
    "expected=pd.DataFrame(data=expected, \n",
    "                      index=['no churn', 'churn'], \n",
    "                      columns=['no internet', 'internet'])\n",
    "\n",
    "#showing the results of the chi^2 test\n",
    "print('observed values\\n')\n",
    "print(observed)\n",
    "print('--------------\\n')\n",
    "print('expected values\\n')\n",
    "print(round(expected,1))\n",
    "print('--------------\\n')\n",
    "print(f'chi^2= {chi2: .4f}')\n",
    "print(f'p    = {p}')"
   ]
  },
  {
   "cell_type": "code",
   "execution_count": 18,
   "id": "96787de1",
   "metadata": {},
   "outputs": [
    {
     "name": "stdout",
     "output_type": "stream",
     "text": [
      "reject the null hypothesis\n"
     ]
    }
   ],
   "source": [
    "#check if the p value is less than our alpha\n",
    "\n",
    "if p < alpha:\n",
    "    print('reject the null hypothesis')\n",
    "else:\n",
    "    print('do not reject the null hypothesis')"
   ]
  },
  {
   "cell_type": "markdown",
   "id": "9245f7c0",
   "metadata": {},
   "source": [
    "**Takeaway**  \n",
    "The p value is low so we reject the null hypothesis. Customers that churn are significantly more likely to have internet service. Maybe Telco has bad internet quality."
   ]
  },
  {
   "cell_type": "markdown",
   "id": "cb3a8392",
   "metadata": {},
   "source": [
    "# Question 4:\n",
    "# Are customers with high monthly charges more likely to churn?\n",
    "$H_0$- Customers that churn are not significantly more likely to have higher monthly charges  \n",
    "$H_a$- Customers that churn are significantly more likely to have higher monthly charges"
   ]
  },
  {
   "cell_type": "code",
   "execution_count": 19,
   "id": "d33af252",
   "metadata": {},
   "outputs": [
    {
     "data": {
      "text/plain": [
       "<AxesSubplot:xlabel='churn', ylabel='monthly_charges'>"
      ]
     },
     "execution_count": 19,
     "metadata": {},
     "output_type": "execute_result"
    },
    {
     "data": {
      "image/png": "[encoded data removed]",
      "text/plain": [
       "<Figure size 640x480 with 1 Axes>"
      ]
     },
     "metadata": {},
     "output_type": "display_data"
    }
   ],
   "source": [
    "#visualizing monthly charges with churn\n",
    "\n",
    "sns.swarmplot(y='monthly_charges',x='churn', data=telco_train, size=1)"
   ]
  },
  {
   "cell_type": "markdown",
   "id": "7041449d",
   "metadata": {},
   "source": [
    "### distributions are not normal so I will use a mannwhitney"
   ]
  },
  {
   "cell_type": "code",
   "execution_count": 20,
   "id": "092cbae4",
   "metadata": {},
   "outputs": [
    {
     "name": "stdout",
     "output_type": "stream",
     "text": [
      "test_statistic= 1914548.5 p=5.15662627815242e-37\n",
      "reject the null hypothesis\n"
     ]
    }
   ],
   "source": [
    "#running the mannwhitneyu stat test\n",
    "test_statistic, p= stats.mannwhitneyu(x= churn_yes['monthly_charges'], \n",
    "                                      y= churn_no['monthly_charges'], \n",
    "                                      alternative= 'greater')\n",
    "print(f'test_statistic= {test_statistic}', f'p={p}')\n",
    "\n",
    "#check if the p value is less than our alpha\n",
    "if p < alpha:\n",
    "    print('reject the null hypothesis')\n",
    "else:\n",
    "    print('do not reject the null hypothesis')"
   ]
  },
  {
   "cell_type": "markdown",
   "id": "48280922",
   "metadata": {},
   "source": [
    "**Takeaways**  \n",
    "The p value is lower than the alpha so we reject the null hypothesis. Customers that churn are significantly more likely to have a higher monthly charge. "
   ]
  },
  {
   "cell_type": "markdown",
   "id": "41f15a73",
   "metadata": {},
   "source": [
    "## Modeling"
   ]
  },
  {
   "cell_type": "markdown",
   "id": "f760574d",
   "metadata": {},
   "source": [
    "### First I need to drop the columns that were used in explore that have dummies and convert the \"Yes\" and \"No\" in the churn column to integers (1 and 0). This is done for the train, validate, and test groups."
   ]
  },
  {
   "cell_type": "code",
   "execution_count": 21,
   "id": "23a02168",
   "metadata": {},
   "outputs": [],
   "source": [
    "#dropping string columns that have been made into dummy vars\n",
    "telco_train.drop(columns=['gender', 'dependents', 'partner', 'phone_service', 'multiple_lines',\n",
    "                          'online_security', 'online_backup', 'device_protection', 'tech_support',\n",
    "                          'streaming_tv', 'streaming_movies', 'paperless_billing', 'contract_type',\n",
    "                          'internet_service_type', 'payment_type', 'churn_month', 'total_charges',\n",
    "                          'signup_date', 'has_internet'], inplace=True)\n",
    "\n",
    "telco_v.drop(columns=['gender', 'dependents', 'partner', 'phone_service', 'multiple_lines',\n",
    "                          'online_security', 'online_backup', 'device_protection', 'tech_support',\n",
    "                          'streaming_tv', 'streaming_movies', 'paperless_billing', 'contract_type',\n",
    "                          'internet_service_type', 'payment_type', 'churn_month', 'total_charges',\n",
    "                          'signup_date'], inplace=True)\n",
    "\n",
    "telco_test.drop(columns=['gender', 'dependents', 'partner', 'phone_service', 'multiple_lines',\n",
    "                          'online_security', 'online_backup', 'device_protection', 'tech_support',\n",
    "                          'streaming_tv', 'streaming_movies', 'paperless_billing', 'contract_type',\n",
    "                          'internet_service_type', 'payment_type', 'churn_month', 'total_charges',\n",
    "                          'signup_date'], inplace=True)\n",
    "\n",
    "\n",
    "#changing the strings in the 'churn' column to integers\n",
    "for w in telco_train['churn']:\n",
    "    if w == 'Yes':\n",
    "        telco_train['churn'].replace('Yes', 1, inplace=True)\n",
    "    else:\n",
    "        telco_train['churn'].replace('No', 0, inplace=True)\n",
    "        \n",
    "for w in telco_v['churn']:\n",
    "    if w == 'Yes':\n",
    "        telco_v['churn'].replace('Yes', 1, inplace=True)\n",
    "    else:\n",
    "        telco_v['churn'].replace('No', 0, inplace=True)\n",
    "        \n",
    "for w in telco_test['churn']:\n",
    "    if w == 'Yes':\n",
    "        telco_test['churn'].replace('Yes', 1, inplace=True)\n",
    "    else:\n",
    "        telco_test['churn'].replace('No', 0, inplace=True)"
   ]
  },
  {
   "cell_type": "code",
   "execution_count": 38,
   "id": "c7fc285e",
   "metadata": {},
   "outputs": [
    {
     "data": {
      "text/plain": [
       "0.7347197565305605"
      ]
     },
     "execution_count": 38,
     "metadata": {},
     "output_type": "execute_result"
    }
   ],
   "source": [
    "#establishing baseline accuracy\n",
    "\n",
    "#making base column\n",
    "telco_train['base']= 0\n",
    "\n",
    "#making the confusion matrix with actual churn results and baseline\n",
    "cm= confusion_matrix(y_train, telco_train['base'])\n",
    "\n",
    "#computing the accuracy\n",
    "tn, fp, fn, tp= cm.ravel()\n",
    "\n",
    "accuracy = (tp+tn) / (tn+fp+fn+tp)\n",
    "accuracy"
   ]
  },
  {
   "cell_type": "code",
   "execution_count": 22,
   "id": "7f167a29",
   "metadata": {},
   "outputs": [],
   "source": [
    "#separating train, validate, and test into x & y\n",
    "\n",
    "x_train = telco_train.drop(columns=['churn'])\n",
    "y_train = telco_train['churn']\n",
    "\n",
    "x_val = telco_v.drop(columns=['churn'])\n",
    "y_val = telco_v['churn']\n",
    "\n",
    "x_test = telco_test.drop(columns=['churn'])\n",
    "y_test = telco_test['churn']"
   ]
  },
  {
   "cell_type": "code",
   "execution_count": 23,
   "id": "3a11705e",
   "metadata": {},
   "outputs": [
    {
     "data": {
      "text/html": [
       "<div>\n",
       "<style scoped>\n",
       "    .dataframe tbody tr th:only-of-type {\n",
       "        vertical-align: middle;\n",
       "    }\n",
       "\n",
       "    .dataframe tbody tr th {\n",
       "        vertical-align: top;\n",
       "    }\n",
       "\n",
       "    .dataframe thead th {\n",
       "        text-align: right;\n",
       "    }\n",
       "</style>\n",
       "<table border=\"1\" class=\"dataframe\">\n",
       "  <thead>\n",
       "    <tr style=\"text-align: right;\">\n",
       "      <th></th>\n",
       "      <th>min_samples_per_leaf</th>\n",
       "      <th>max_depth</th>\n",
       "      <th>train_accuracy</th>\n",
       "      <th>validate_accuracy</th>\n",
       "      <th>difference</th>\n",
       "    </tr>\n",
       "  </thead>\n",
       "  <tbody>\n",
       "    <tr>\n",
       "      <th>50</th>\n",
       "      <td>6</td>\n",
       "      <td>7</td>\n",
       "      <td>0.819427</td>\n",
       "      <td>0.801892</td>\n",
       "      <td>0.017534</td>\n",
       "    </tr>\n",
       "    <tr>\n",
       "      <th>5</th>\n",
       "      <td>1</td>\n",
       "      <td>7</td>\n",
       "      <td>0.825514</td>\n",
       "      <td>0.801892</td>\n",
       "      <td>0.023621</td>\n",
       "    </tr>\n",
       "    <tr>\n",
       "      <th>44</th>\n",
       "      <td>5</td>\n",
       "      <td>10</td>\n",
       "      <td>0.843267</td>\n",
       "      <td>0.801892</td>\n",
       "      <td>0.041374</td>\n",
       "    </tr>\n",
       "    <tr>\n",
       "      <th>59</th>\n",
       "      <td>7</td>\n",
       "      <td>7</td>\n",
       "      <td>0.818920</td>\n",
       "      <td>0.801892</td>\n",
       "      <td>0.017027</td>\n",
       "    </tr>\n",
       "  </tbody>\n",
       "</table>\n",
       "</div>"
      ],
      "text/plain": [
       "    min_samples_per_leaf  max_depth  train_accuracy  validate_accuracy  \\\n",
       "50                     6          7        0.819427           0.801892   \n",
       "5                      1          7        0.825514           0.801892   \n",
       "44                     5         10        0.843267           0.801892   \n",
       "59                     7          7        0.818920           0.801892   \n",
       "\n",
       "    difference  \n",
       "50    0.017534  \n",
       "5     0.023621  \n",
       "44    0.041374  \n",
       "59    0.017027  "
      ]
     },
     "execution_count": 23,
     "metadata": {},
     "output_type": "execute_result"
    }
   ],
   "source": [
    "#visualizing the best models\n",
    "\n",
    "metrics=[]\n",
    "\n",
    "for n in range(1, 11):\n",
    "    for i in range(2, 11):\n",
    "                                                        #making the model\n",
    "        rf= RandomForestClassifier(max_depth=i,\n",
    "                                   min_samples_leaf=n,\n",
    "                                   random_state=8675309)\n",
    "                                                        #fitting the model\n",
    "        rf=rf.fit(x_train, y_train)\n",
    "                                                        #evaluate accuracy on train and validate\n",
    "        in_sample_accuracy= rf.score(x_train, y_train)\n",
    "        out_of_sample_accuracy= rf.score(x_val, y_val)\n",
    "        \n",
    "                                                        #assign the output to a dictionary\n",
    "        output= {\n",
    "            'min_samples_per_leaf': n,\n",
    "            'max_depth': i,\n",
    "            'train_accuracy': in_sample_accuracy,\n",
    "            'validate_accuracy': out_of_sample_accuracy\n",
    "        }\n",
    "        \n",
    "                                                        #appending the output to a list\n",
    "        metrics.append(output)\n",
    "        \n",
    "        \n",
    "#turning metrics into a dataframe\n",
    "df= pd.DataFrame(metrics)\n",
    "\n",
    "#adding a difference column\n",
    "df['difference']= df['train_accuracy']-df['validate_accuracy']\n",
    "\n",
    "#sorting (decending) and taking the top results\n",
    "df.sort_values(by=['validate_accuracy'], ascending=False).head(4)"
   ]
  },
  {
   "cell_type": "markdown",
   "id": "05c7616f",
   "metadata": {},
   "source": [
    "### My best models are 50, 5, and 59. 44 may be slightly overfit as observed by the higher train accuracy and same validate accuracy. The best model is 50. I will run my test data using this model."
   ]
  },
  {
   "cell_type": "code",
   "execution_count": 35,
   "id": "f9e7620c",
   "metadata": {},
   "outputs": [
    {
     "name": "stdout",
     "output_type": "stream",
     "text": [
      "train accuracy= 0.82 validate accuracy= 0.8 test accuracy= 0.79\n"
     ]
    }
   ],
   "source": [
    "#Creating the model\n",
    "rf= RandomForestClassifier(max_depth=7,\n",
    "                           min_samples_leaf=6,\n",
    "                           random_state=8675309)\n",
    "\n",
    "#fitting the model\n",
    "rf.fit(x_train, y_train)\n",
    "\n",
    "#evaluating the model with the test set\n",
    "test_accuracy= rf.score(x_test, y_test)\n",
    "\n",
    "#print total results\n",
    "train_acc= df['train_accuracy'][50]\n",
    "val_acc= df['validate_accuracy'][50]\n",
    "print(f'train accuracy= {round(train_acc,2)}',\n",
    "      f'validate accuracy= {round(val_acc,2)}',\n",
    "      f'test accuracy= {round(test_accuracy,2)}')"
   ]
  },
  {
   "cell_type": "markdown",
   "id": "1ba30b70",
   "metadata": {},
   "source": [
    "## Modeling Summary\n",
    "- The random forest [50] performed very well with a very similar accuracy to the train and validate sets\n",
    "- This model outperforms the baseline accuracy of .73"
   ]
  },
  {
   "cell_type": "markdown",
   "id": "1fed036e",
   "metadata": {},
   "source": [
    "## Recommendations\n",
    "- To reduce churn consider improving overall internet services, and focus on marketing to families."
   ]
  },
  {
   "cell_type": "markdown",
   "id": "b0edb481",
   "metadata": {},
   "source": [
    "## Next Steps\n",
    "- If I had more time, I would determine the price of each service offered by Telco and do statistical analysis to see if one specific service is driving churn. Maybe there is one service that is overpriced for the product and causing customers to churn."
   ]
  },
  {
   "cell_type": "code",
   "execution_count": null,
   "id": "ab0abdc5",
   "metadata": {},
   "outputs": [],
   "source": []
  }
 ],
 "metadata": {
  "kernelspec": {
   "display_name": "Python 3 (ipykernel)",
   "language": "python",
   "name": "python3"
  },
  "language_info": {
   "codemirror_mode": {
    "name": "ipython",
    "version": 3
   },
   "file_extension": ".py",
   "mimetype": "text/x-python",
   "name": "python",
   "nbconvert_exporter": "python",
   "pygments_lexer": "ipython3",
   "version": "3.9.13"
  }
 },
 "nbformat": 4,
 "nbformat_minor": 5
}
